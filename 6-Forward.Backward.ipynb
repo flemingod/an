{
 "cells": [
  {
   "cell_type": "code",
   "execution_count": 23,
   "id": "dd3dfd94-f023-483c-80b4-f6faa16fe14e",
   "metadata": {},
   "outputs": [],
   "source": [
    "import numpy as np"
   ]
  },
  {
   "cell_type": "code",
   "execution_count": 29,
   "id": "beae9a08-b615-4011-9abb-11bc07b819a7",
   "metadata": {},
   "outputs": [
    {
     "name": "stdout",
     "output_type": "stream",
     "text": [
      "[[0.5002672 ]\n",
      " [0.49961565]\n",
      " [0.50052285]\n",
      " [0.49959553]]\n"
     ]
    }
   ],
   "source": [
    "class NeuralNetwork:\n",
    "    def __init__(self,inputt,hidden,output):\n",
    "        self.W1=np.random.randn(inputt,hidden)\n",
    "        self.b1=np.zeros(hidden)\n",
    "        self.W2=np.random.randn(hidden,output)\n",
    "        self.b2=np.zeros(output)\n",
    "    \n",
    "    def sigmoid(self,x):\n",
    "        return 1/(1+np.exp(-x))\n",
    "    \n",
    "    def sigmoid_derative(self,x):\n",
    "        return x*(1-x)\n",
    "\n",
    "    def forward(self,x):\n",
    "        self.z1=X @ self.W1+self.b1\n",
    "        self.a1=self.sigmoid(self.z1)\n",
    "        self.z2=self.a1 @ self.W2+self.b2\n",
    "        self.a2=self.sigmoid(self.z2)\n",
    "        return self.a2\n",
    "    \n",
    "    def backward(self,X,y,output):\n",
    "        self.output_error=y-output\n",
    "        self.output_delta=self.output_error * self.sigmoid_derative(output)\n",
    "        self.hidden_error=self.output_delta @ self.W2.T\n",
    "        self.hidden_delta=self.hidden_error * self.sigmoid_derative(self.a1)\n",
    "        self.W1+=X.T @ self.hidden_delta\n",
    "        self.b1+=np.sum(self.hidden_delta,axis=0)\n",
    "        self.W2=self.a1.T @ self.output_delta\n",
    "        self.b2+=np.sum(self.output_delta,axis=0)\n",
    "        \n",
    "    def train(self,X,y,epoch):\n",
    "        for i in range(epoch):\n",
    "            output=self.forward(x)\n",
    "            self.backward(X,y,output)\n",
    "    def predict(self,X):\n",
    "        return self.forward(x)\n",
    "\n",
    "X=np.array([\n",
    "    [0,0],\n",
    "    [0,1],\n",
    "    [1,0],\n",
    "    [1,1]\n",
    "])\n",
    "y=np.array([\n",
    "    [0],\n",
    "    [1],\n",
    "    [1],\n",
    "    [0]\n",
    "])\n",
    "\n",
    "nn=NeuralNetwork(2,4,1)\n",
    "nn.train(X,y,epoch=10000)\n",
    "p=nn.predict(X)\n",
    "print(p)\n",
    "            \n",
    "    "
   ]
  },
  {
   "cell_type": "code",
   "execution_count": null,
   "id": "ef2df1e2-c8f6-44df-a442-9b6dc96edd32",
   "metadata": {},
   "outputs": [],
   "source": []
  },
  {
   "cell_type": "code",
   "execution_count": null,
   "id": "452bac24-64f0-4a1e-8f2c-d2750b1fa8d5",
   "metadata": {},
   "outputs": [],
   "source": []
  }
 ],
 "metadata": {
  "kernelspec": {
   "display_name": "Python 3 (ipykernel)",
   "language": "python",
   "name": "python3"
  },
  "language_info": {
   "codemirror_mode": {
    "name": "ipython",
    "version": 3
   },
   "file_extension": ".py",
   "mimetype": "text/x-python",
   "name": "python",
   "nbconvert_exporter": "python",
   "pygments_lexer": "ipython3",
   "version": "3.12.3"
  }
 },
 "nbformat": 4,
 "nbformat_minor": 5
}
