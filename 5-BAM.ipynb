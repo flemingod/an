{
 "cells": [
  {
   "cell_type": "code",
   "execution_count": 18,
   "id": "7e7891da-e982-4e1a-a608-8b6ca0ab8ba7",
   "metadata": {},
   "outputs": [],
   "source": [
    "import numpy as np"
   ]
  },
  {
   "cell_type": "code",
   "execution_count": 22,
   "id": "8a893b68-f40c-4c79-87dc-20d5c835bbca",
   "metadata": {},
   "outputs": [
    {
     "name": "stdout",
     "output_type": "stream",
     "text": [
      "INPUT:  [ 1 -1 -1 -1]\n",
      "OUTPUT:  [ 1 -1]\n"
     ]
    }
   ],
   "source": [
    "x1=np.array([1,1,1,-1])\n",
    "y1=np.array([1,-1])\n",
    "x2=np.array([-1,-1,1,1])\n",
    "y2=np.array([-1,1])\n",
    "W=np.outer(y1,x1)+np.outer(y2,x2)\n",
    "\n",
    "def bam(x):\n",
    "    y= W @ x\n",
    "    return np.where(y>=0,1,-1)\n",
    "\n",
    "x_test=np.array([1,-1,-1,-1])\n",
    "y_test=bam(x_test)\n",
    "\n",
    "print(\"INPUT: \",x_test)\n",
    "print(\"OUTPUT: \",y_test)"
   ]
  },
  {
   "cell_type": "code",
   "execution_count": null,
   "id": "3c079b6f-2010-4e83-b740-bc03ce954153",
   "metadata": {},
   "outputs": [],
   "source": []
  }
 ],
 "metadata": {
  "kernelspec": {
   "display_name": "Python 3 (ipykernel)",
   "language": "python",
   "name": "python3"
  },
  "language_info": {
   "codemirror_mode": {
    "name": "ipython",
    "version": 3
   },
   "file_extension": ".py",
   "mimetype": "text/x-python",
   "name": "python",
   "nbconvert_exporter": "python",
   "pygments_lexer": "ipython3",
   "version": "3.12.3"
  }
 },
 "nbformat": 4,
 "nbformat_minor": 5
}
