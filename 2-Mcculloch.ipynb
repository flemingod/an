{
 "cells": [
  {
   "cell_type": "code",
   "execution_count": 1,
   "id": "40cf62fd-36ec-439e-a354-0dc8f0f0b7e5",
   "metadata": {},
   "outputs": [],
   "source": [
    "import numpy as np"
   ]
  },
  {
   "cell_type": "code",
   "execution_count": 8,
   "id": "6a395e66-972a-4a91-bbe1-9eddd9696ab2",
   "metadata": {},
   "outputs": [
    {
     "name": "stdout",
     "output_type": "stream",
     "text": [
      "INPUT ARRAY:  [[0 0]\n",
      " [0 1]\n",
      " [1 0]\n",
      " [1 1]]\n",
      "PRODUCT:  [ 0 -1  1  0]\n",
      "ACTIVATION\n",
      "0\n",
      "0\n",
      "1\n",
      "0\n"
     ]
    }
   ],
   "source": [
    "def threshold_binary(dot,T):\n",
    "    if dot>=T:\n",
    "        return 1\n",
    "    else:\n",
    "        return 0\n",
    "        \n",
    "input_array=np.array([\n",
    "    [0,0],\n",
    "    [0,1],\n",
    "    [1,0],\n",
    "    [1,1]\n",
    "])\n",
    "weights=np.array([1,-1])\n",
    "T=1\n",
    "product=input_array @ weights\n",
    "print(\"INPUT ARRAY: \",input_array)\n",
    "print(\"PRODUCT: \",product)\n",
    "\n",
    "print(\"ACTIVATION\")\n",
    "for i in range(0,4):\n",
    "    activation_fn=threshold_binary(product[i],T)\n",
    "    print(activation_fn)\n"
   ]
  },
  {
   "cell_type": "code",
   "execution_count": null,
   "id": "cd000e38-19bc-47bb-88b5-edaaa032db8d",
   "metadata": {},
   "outputs": [],
   "source": []
  }
 ],
 "metadata": {
  "kernelspec": {
   "display_name": "Python 3 (ipykernel)",
   "language": "python",
   "name": "python3"
  },
  "language_info": {
   "codemirror_mode": {
    "name": "ipython",
    "version": 3
   },
   "file_extension": ".py",
   "mimetype": "text/x-python",
   "name": "python",
   "nbconvert_exporter": "python",
   "pygments_lexer": "ipython3",
   "version": "3.12.3"
  }
 },
 "nbformat": 4,
 "nbformat_minor": 5
}
