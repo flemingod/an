{
 "cells": [
  {
   "cell_type": "code",
   "execution_count": 2,
   "id": "09168ed5-0565-442f-97f0-6a3a7e46c535",
   "metadata": {},
   "outputs": [],
   "source": [
    "import numpy as np\n",
    "import sklearn as skl\n",
    "from sklearn.linear_model import Perceptron"
   ]
  },
  {
   "cell_type": "code",
   "execution_count": 5,
   "id": "edcc44ec-16e3-4a74-ab0f-608ae3a2ea46",
   "metadata": {},
   "outputs": [
    {
     "name": "stdout",
     "output_type": "stream",
     "text": [
      "[0 0 0 0 0 0 0 0 0 1] EVEN\n",
      "[0 0 0 0 0 0 0 0 1 0] ODD\n",
      "[0 0 0 0 0 0 0 1 0 0] EVEN\n",
      "[0 0 0 0 0 0 1 0 0 0] ODD\n",
      "[0 0 0 0 0 1 0 0 0 0] EVEN\n",
      "[0 0 0 0 1 0 0 0 0 0] ODD\n",
      "[0 0 0 1 0 0 0 0 0 0] EVEN\n",
      "[0 0 1 0 0 0 0 0 0 0] ODD\n",
      "[0 1 0 0 0 0 0 0 0 0] EVEN\n",
      "[1 0 0 0 0 0 0 0 0 0] ODD\n"
     ]
    }
   ],
   "source": [
    "input_array=np.array([\n",
    "    [0,0,0,0,0,0,0,0,0,1],\n",
    "    [0,0,0,0,0,0,0,0,1,0],\n",
    "    [0,0,0,0,0,0,0,1,0,0],\n",
    "    [0,0,0,0,0,0,1,0,0,0],\n",
    "    [0,0,0,0,0,1,0,0,0,0],\n",
    "    [0,0,0,0,1,0,0,0,0,0],\n",
    "    [0,0,0,1,0,0,0,0,0,0],\n",
    "    [0,0,1,0,0,0,0,0,0,0],\n",
    "    [0,1,0,0,0,0,0,0,0,0],\n",
    "    [1,0,0,0,0,0,0,0,0,0],\n",
    "])\n",
    "\n",
    "label=np.array([1,-1,1,-1,1,-1,1,-1,1,-1])\n",
    "perceptron=Perceptron(max_iter=100,tol=None)\n",
    "perceptron.fit(input_array,label)\n",
    "Perceptron(max_iter=100,tol=None)\n",
    "\n",
    "for i in input_array:\n",
    "    pr=perceptron.predict([i])\n",
    "    if pr==1:\n",
    "        print(i,\"EVEN\")\n",
    "    else:\n",
    "        print(i,\"ODD\")"
   ]
  },
  {
   "cell_type": "code",
   "execution_count": null,
   "id": "631d779a-edb2-456b-b6d2-7e040dbfaf43",
   "metadata": {},
   "outputs": [],
   "source": []
  }
 ],
 "metadata": {
  "kernelspec": {
   "display_name": "Python 3 (ipykernel)",
   "language": "python",
   "name": "python3"
  },
  "language_info": {
   "codemirror_mode": {
    "name": "ipython",
    "version": 3
   },
   "file_extension": ".py",
   "mimetype": "text/x-python",
   "name": "python",
   "nbconvert_exporter": "python",
   "pygments_lexer": "ipython3",
   "version": "3.12.3"
  }
 },
 "nbformat": 4,
 "nbformat_minor": 5
}
